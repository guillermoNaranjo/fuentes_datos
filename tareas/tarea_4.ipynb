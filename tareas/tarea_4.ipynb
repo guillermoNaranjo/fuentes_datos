{
 "cells": [
  {
   "cell_type": "markdown",
   "id": "e7441d5b",
   "metadata": {},
   "source": [
    "## Tarea 4 Fuentes de datos\n",
    "### Guillermo Jorge Naranjo Muedano \n",
    "### 190240"
   ]
  },
  {
   "cell_type": "code",
   "execution_count": 12,
   "id": "9a9f26c7",
   "metadata": {},
   "outputs": [],
   "source": [
    "import random"
   ]
  },
  {
   "cell_type": "markdown",
   "id": "f335cd4e",
   "metadata": {},
   "source": [
    "### Función juego_clasico()\n",
    "1. Genera una función juego_clasico() en python que te permita jugar piedra, papel o tijeras. El programa tendrá que aceptar una entrada en la que tú decides qué seleccionas y la \"máquina\" jugará contigo."
   ]
  },
  {
   "cell_type": "code",
   "execution_count": 13,
   "id": "359f19f1",
   "metadata": {},
   "outputs": [],
   "source": [
    "def juego_clasico():\n",
    "    mov=[\"piedra\", \"papel\", \"tijera\"]\n",
    "    jugador=0\n",
    "    maquina=0\n",
    "    for i in range(1,11,1):\n",
    "        seleccion=input(\"piedra, papel o tijera? \")\n",
    "        seleccion_maq=random.choice(mov)\n",
    "        if (seleccion==seleccion_maq):\n",
    "            resultado=\"empate\"\n",
    "            maquina+=1\n",
    "            jugador+=1\n",
    "        else:\n",
    "            if (seleccion==mov[0] and seleccion_maq==mov[1]):\n",
    "                resultado=\"maquina\"\n",
    "                maquina+=1\n",
    "            elif (seleccion==mov[1] and seleccion_maq==mov[2]):\n",
    "                resultado=\"maquina\"\n",
    "                maquina+=1\n",
    "            elif (seleccion==mov[2] and seleccion_maq==mov[0]):\n",
    "                resultado=\"maquina\"\n",
    "                maquina+=1\n",
    "            else: \n",
    "                resultado=\"jugador\"\n",
    "                jugador+=1\n",
    "        print (\"jugador:\", seleccion, \"maquina:\", seleccion_maq)\n",
    "        print (\"Partida:\", i, \": ganador en esta partida,\", resultado)\n",
    "    if (jugador>maquina):\n",
    "        print (\"Ganó jugador\", jugador)\n",
    "    elif (jugador<maquina):\n",
    "        print (\"Ganó maquina\", maquina)\n",
    "    else: \n",
    "        print (\"Empate entre jugador y maquina:\",jugador,\",\",maquina)\n",
    "    return"
   ]
  },
  {
   "cell_type": "code",
   "execution_count": null,
   "id": "87f3723e",
   "metadata": {},
   "outputs": [],
   "source": [
    "juego_clasico()"
   ]
  },
  {
   "cell_type": "markdown",
   "id": "cdff6bc0",
   "metadata": {},
   "source": [
    "### Funcion juego_ampliado\n",
    "2. Genera una función juego_ampliado() en python que te permita jugar piedra, papel, tijeras, lagarto y spock. "
   ]
  },
  {
   "cell_type": "code",
   "execution_count": 14,
   "id": "fbeb023b",
   "metadata": {},
   "outputs": [],
   "source": [
    "def juego_ampliado():\n",
    "    mov=[\"piedra\", \"papel\", \"tijera\", \"lagarto\",\"spock\"]\n",
    "    jugador=0\n",
    "    maquina=0\n",
    "    for i in range(1,11,1):\n",
    "        seleccion=input(\"piedra, papel, tijera, lagarto o spock\")\n",
    "        seleccion_maq=random.choice(mov)\n",
    "        if(seleccion==seleccion_maq):\n",
    "            resultado=\"empate\"\n",
    "            maquina+=1\n",
    "            jugador+=1\n",
    "        else: \n",
    "            if(seleccion_maq==mov[0] and (seleccion==mov[2] or seleccion==mov[3])):\n",
    "               resultado=\"maquina\"\n",
    "               maquina+=1\n",
    "            elif(seleccion_maq==mov[1] and (seleccion==mov[0] or seleccion==mov[4])):\n",
    "               resultado=\"maquina\"\n",
    "               maquina+=1\n",
    "            elif(seleccion_maq==mov[2] and (seleccion==mov[1] or seleccion==mov[3])):\n",
    "               resultado=\"maquina\"\n",
    "               maquina+=1\n",
    "            elif(seleccion_maq==mov[3] and (seleccion==mov[1] or seleccion==mov[4])):\n",
    "               resultado=\"maquina\"\n",
    "               maquina+=1\n",
    "            elif(seleccion_maq==mov[4] and (seleccion==mov[0] or seleccion==mov[2])):\n",
    "               resultado=\"maquina\"\n",
    "               maquina+=1\n",
    "            else:\n",
    "               resultado=\"jugador\"\n",
    "               jugador+=1\n",
    "        print (\"jugador:\", seleccion, \"maquina:\", seleccion_maq)\n",
    "        print (\"Partida:\", i, \": ganador en esta partida,\", resultado)\n",
    "    if (jugador>maquina):\n",
    "        print (\"Ganó jugador\", jugador)\n",
    "    elif (jugador<maquina):\n",
    "        print (\"Ganó maquina\", maquina)\n",
    "    else: \n",
    "        print (\"Empate entre jugador y maquina:\",jugador,\",\",maquina)\n",
    "    return"
   ]
  },
  {
   "cell_type": "code",
   "execution_count": null,
   "id": "7f697eb5",
   "metadata": {},
   "outputs": [],
   "source": [
    "juego_ampliado()"
   ]
  },
  {
   "cell_type": "markdown",
   "id": "bfcf2fd8",
   "metadata": {},
   "source": [
    "### Función juego_clasico(formato=\"gana_casa\")\n",
    "3. Genera la función juego_clasico(formato) pasando como valor al parámetro gana_casa, a través de la cual haremos que la máquina siempre gane, al estilo de cualquier casino :P. Esta función es copia de la función de la pregunta 1 pero modificando a agregar un if else que tome en cuenta el parámetro de formato, si formato es gana_casa entonces no genera la selección aleatoria de la máquina, en caso contrario la función hace exactamente lo mismo que la función de la pregunta 1. "
   ]
  },
  {
   "cell_type": "code",
   "execution_count": 10,
   "id": "bb0b03af",
   "metadata": {},
   "outputs": [],
   "source": [
    "def juego_clasico(formato=None):\n",
    "    mov=[\"piedra\", \"papel\", \"tijera\"]\n",
    "    jugador=0\n",
    "    maquina=0\n",
    "    if(formato==\"gana_casa\"):\n",
    "        for i in range(1,11,1):\n",
    "            seleccion=input(\"piedra, papel o tijera? \")\n",
    "            maquina+=1\n",
    "            if(seleccion==mov[0]):\n",
    "                print(\"jugador:\",seleccion,\"maquina:\",mov[1])\n",
    "                print(\"Partida:\",i,\": ganador de esta partida, maquina\")\n",
    "            elif(seleccion==mov[1]):\n",
    "                print(\"jugador:\",seleccion,\"maquina:\",mov[2])\n",
    "                print(\"Partida:\",i,\": ganador de esta partida, maquina\")\n",
    "            else:\n",
    "                print(\"jugador:\",seleccion,\"maquina:\",mov[0])\n",
    "                print(\"Partida:\",i,\": ganador de esta partida, maquina\")\n",
    "    elif(formato==None):\n",
    "        for i in range(1,11,1):\n",
    "            seleccion=input(\"piedra, papel o tijera? \")\n",
    "            seleccion_maq=random.choice(mov)\n",
    "            if (seleccion==seleccion_maq):\n",
    "                resultado=\"empate\"\n",
    "                maquina+=1\n",
    "                jugador+=1\n",
    "            else:\n",
    "                if (seleccion==mov[0] and seleccion_maq==mov[1]):\n",
    "                    resultado=\"maquina\"\n",
    "                    maquina+=1\n",
    "                elif (seleccion==mov[1] and seleccion_maq==mov[2]):\n",
    "                    resultado=\"maquina\"\n",
    "                    maquina+=1\n",
    "                elif (seleccion==mov[2] and seleccion_maq==mov[0]):\n",
    "                    resultado=\"maquina\"\n",
    "                    maquina+=1\n",
    "                else: \n",
    "                    resultado=\"jugador\"\n",
    "                    jugador+=1\n",
    "            print (\"jugador:\", seleccion, \"maquina:\", seleccion_maq)\n",
    "            print (\"Partida:\", i, \": ganador en esta partida,\", resultado)\n",
    "    if (jugador>maquina):\n",
    "        print (\"Ganó jugador\", jugador)\n",
    "    elif (jugador<maquina):\n",
    "        print (\"Ganó maquina\", maquina)\n",
    "    else: \n",
    "        print (\"Empate entre jugador y maquina:\",jugador,\",\",maquina)\n",
    "    return"
   ]
  },
  {
   "cell_type": "code",
   "execution_count": 3,
   "id": "575513f9",
   "metadata": {},
   "outputs": [
    {
     "name": "stdout",
     "output_type": "stream",
     "text": [
      "piedra, papel o tijera? papel\n",
      "jugador: papel maquina: tijera\n",
      "Partida: 1 : ganador de esta partida, maquina\n",
      "piedra, papel o tijera? tijera\n",
      "jugador: tijera maquina: piedra\n",
      "Partida: 2 : ganador de esta partida, maquina\n",
      "piedra, papel o tijera? papel\n",
      "jugador: papel maquina: tijera\n",
      "Partida: 3 : ganador de esta partida, maquina\n",
      "piedra, papel o tijera? piedra\n",
      "jugador: piedra maquina: papel\n",
      "Partida: 4 : ganador de esta partida, maquina\n",
      "piedra, papel o tijera? papel\n",
      "jugador: papel maquina: tijera\n",
      "Partida: 5 : ganador de esta partida, maquina\n",
      "piedra, papel o tijera? \"Empate\", \"jugador:\", jugador,\"maquina\", maquina\n",
      "jugador: \"Empate\", \"jugador:\", jugador,\"maquina\", maquina maquina: piedra\n",
      "Partida: 6 : ganador de esta partida, maquina\n",
      "piedra, papel o tijera? papel\n",
      "jugador: papel maquina: tijera\n",
      "Partida: 7 : ganador de esta partida, maquina\n",
      "piedra, papel o tijera? papel\n",
      "jugador: papel maquina: tijera\n",
      "Partida: 8 : ganador de esta partida, maquina\n",
      "piedra, papel o tijera? piedra\n",
      "jugador: piedra maquina: papel\n",
      "Partida: 9 : ganador de esta partida, maquina\n",
      "piedra, papel o tijera? tijera\n",
      "jugador: tijera maquina: piedra\n",
      "Partida: 10 : ganador de esta partida, maquina\n",
      "Ganó maquina 10\n"
     ]
    }
   ],
   "source": [
    "juego_clasico(\"gana_casa\")"
   ]
  },
  {
   "cell_type": "markdown",
   "id": "555f44eb",
   "metadata": {},
   "source": [
    "### juego_clasico(formato=\"empate\")\n",
    "4. Genera la función juego_clasico(formato) pasando como valor al parámetro empate, a través de la cual haremos que siempre terminemos empatados con la máquina. Esta función es copia de la función de la pregunta 3 pero agregando a que tome en cuenta el valor empate en el parámetro formato, si formato es empate entonces no genera la selección aleatoria de la máquina, y busca hacer empate; si el formato es gana_casa se corre la funcionalidad implementada en la pregunta 3, y en otro caso, la función hace exactamente lo mismo que la función de la pregunta 1."
   ]
  },
  {
   "cell_type": "code",
   "execution_count": 11,
   "id": "ae6f35ec",
   "metadata": {},
   "outputs": [],
   "source": [
    "def juego_clasico(formato=None): #con formato predeterminado None\n",
    "    mov=[\"piedra\", \"papel\", \"tijera\"]\n",
    "    jugador=0\n",
    "    maquina=0\n",
    "    if(formato==\"gana_casa\"):\n",
    "        for i in range(1,11,1):\n",
    "            seleccion=input(\"piedra, papel o tijera? \")\n",
    "            maquina+=1\n",
    "            if(seleccion==mov[0]):\n",
    "                print(\"jugador:\",seleccion,\"maquina:\",mov[1])\n",
    "                print(\"Partida:\",i,\": ganador de esta partida, maquina\")\n",
    "            elif(seleccion==mov[1]):\n",
    "                print(\"jugador:\",seleccion,\"maquina:\",mov[2])\n",
    "                print(\"Partida:\",i,\": ganador de esta partida, maquina\")\n",
    "            else:\n",
    "                print(\"jugador:\",seleccion,\"maquina:\",mov[0])\n",
    "                print(\"Partida:\",i,\": ganador de esta partida, maquina\")\n",
    "    elif(formato==\"empate\"):\n",
    "        for i in range(1,11,1):\n",
    "            seleccion=input(\"piedra, papel o tijera? \")\n",
    "            print(\"jugador:\",seleccion,\"maquina:\",seleccion)\n",
    "            print(\"partida:\",i,\": ganador en esta partida: empate\")\n",
    "            jugador+=1\n",
    "            maquina+=1\n",
    "    elif(formato==None):\n",
    "        for i in range(1,11,1):\n",
    "            seleccion=input(\"piedra, papel o tijera? \")\n",
    "            seleccion_maq=random.choice(movimientos)\n",
    "            if (seleccion==seleccion_maq):\n",
    "                resultado=\"empate\"\n",
    "                maquina+=1\n",
    "                jugador+=1\n",
    "            else:\n",
    "                if (seleccion==mov[0] and seleccion_maq==mov[1]):\n",
    "                    resultado=\"maquina\"\n",
    "                    maquina+=1\n",
    "                elif (seleccion==mov[1] and seleccion_maq==mov[2]):\n",
    "                    resultado=\"maquina\"\n",
    "                    maquina+=1\n",
    "                elif (seleccion==mov[2] and seleccion_maq==mov[0]):\n",
    "                    resultado=\"maquina\"\n",
    "                    maquina+=1\n",
    "                else: \n",
    "                    resultado=\"jugador\"\n",
    "                    jugador+=1\n",
    "            print (\"jugador:\", seleccion, \"maquina:\", seleccion_maq)\n",
    "            print (\"Partida:\", i, \": ganador en esta partida,\", resultado)\n",
    "    if (jugador>maquina):\n",
    "        print (\"Ganó jugador\", jugador)\n",
    "    elif (jugador<maquina):\n",
    "        print (\"Ganó maquina\", maquina)\n",
    "    else: \n",
    "        print (\"Empate entre jugador y maquina:\",jugador,\",\",maquina)\n",
    "    return"
   ]
  },
  {
   "cell_type": "code",
   "execution_count": 7,
   "id": "6759cd39",
   "metadata": {},
   "outputs": [
    {
     "name": "stdout",
     "output_type": "stream",
     "text": [
      "piedra, papel o tijera? papel\n",
      "jugador: papel maquina: papel\n",
      "partida: 1 : ganador en esta partida: empate\n",
      "piedra, papel o tijera? tijera\n",
      "jugador: tijera maquina: tijera\n",
      "partida: 2 : ganador en esta partida: empate\n",
      "piedra, papel o tijera? piedra\n",
      "jugador: piedra maquina: piedra\n",
      "partida: 3 : ganador en esta partida: empate\n",
      "piedra, papel o tijera? papel\n",
      "jugador: papel maquina: papel\n",
      "partida: 4 : ganador en esta partida: empate\n",
      "piedra, papel o tijera? piedra\n",
      "jugador: piedra maquina: piedra\n",
      "partida: 5 : ganador en esta partida: empate\n",
      "piedra, papel o tijera? papel\n",
      "jugador: papel maquina: papel\n",
      "partida: 6 : ganador en esta partida: empate\n",
      "piedra, papel o tijera? tijera\n",
      "jugador: tijera maquina: tijera\n",
      "partida: 7 : ganador en esta partida: empate\n",
      "piedra, papel o tijera? papel\n",
      "jugador: papel maquina: papel\n",
      "partida: 8 : ganador en esta partida: empate\n",
      "piedra, papel o tijera? piedra\n",
      "jugador: piedra maquina: piedra\n",
      "partida: 9 : ganador en esta partida: empate\n",
      "piedra, papel o tijera? papel\n",
      "jugador: papel maquina: papel\n",
      "partida: 10 : ganador en esta partida: empate\n",
      "Empate entre jugador y maquina: 10 , 10\n"
     ]
    }
   ],
   "source": [
    "juego_clasico(\"empate\")"
   ]
  },
  {
   "cell_type": "code",
   "execution_count": null,
   "id": "cca2b43b",
   "metadata": {},
   "outputs": [],
   "source": []
  }
 ],
 "metadata": {
  "kernelspec": {
   "display_name": "fuentes_datos2",
   "language": "python",
   "name": "fuentes_datos"
  },
  "language_info": {
   "codemirror_mode": {
    "name": "ipython",
    "version": 3
   },
   "file_extension": ".py",
   "mimetype": "text/x-python",
   "name": "python",
   "nbconvert_exporter": "python",
   "pygments_lexer": "ipython3",
   "version": "3.8.10"
  }
 },
 "nbformat": 4,
 "nbformat_minor": 5
}
