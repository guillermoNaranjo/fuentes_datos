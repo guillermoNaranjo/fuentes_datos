{
 "cells": [
  {
   "cell_type": "markdown",
   "id": "1cdb40d4",
   "metadata": {},
   "source": [
    "### Tarea 5 - pandas \n",
    "### Guillermo Jorge Naranjo Muedano \n",
    "### 190240"
   ]
  },
  {
   "cell_type": "markdown",
   "id": "cfc78ac5",
   "metadata": {},
   "source": [
    "1. Carga de dato a pandas "
   ]
  },
  {
   "cell_type": "code",
   "execution_count": 1,
   "id": "ebb331b3",
   "metadata": {},
   "outputs": [],
   "source": [
    "import pandas as pd\n",
    "import numpy as np"
   ]
  },
  {
   "cell_type": "code",
   "execution_count": 2,
   "id": "dcac7c70",
   "metadata": {},
   "outputs": [],
   "source": [
    "casos_covid=pd.read_csv(\"/home/guillermo/Downloads/casos_nacionales_covid-19.csv\")"
   ]
  },
  {
   "cell_type": "code",
   "execution_count": 3,
   "id": "51e14f58",
   "metadata": {},
   "outputs": [],
   "source": [
    "casos_covid.drop(columns=\"Unnamed: 0\",inplace=True)"
   ]
  },
  {
   "cell_type": "code",
   "execution_count": 4,
   "id": "11271844",
   "metadata": {},
   "outputs": [],
   "source": [
    "casos_covid[\"fecha_ingreso\"]=pd.to_datetime(casos_covid[\"fecha_ingreso\"],yearfirst=True)\n",
    "casos_covid[\"fecha_sintomas\"]=pd.to_datetime(casos_covid[\"fecha_sintomas\"],yearfirst=True)\n",
    "casos_covid[\"fecha_def\"]=pd.to_datetime(casos_covid[\"fecha_def\"],yearfirst=True)"
   ]
  },
  {
   "cell_type": "markdown",
   "id": "60a4c014",
   "metadata": {},
   "source": [
    "2. Genera un dataframe defunciones en que solo existan registro que tengan una fecha de defunción."
   ]
  },
  {
   "cell_type": "code",
   "execution_count": 5,
   "id": "f42fbafa",
   "metadata": {},
   "outputs": [],
   "source": [
    "defunciones=casos_covid[casos_covid.fecha_def.isnull() == False]"
   ]
  },
  {
   "cell_type": "markdown",
   "id": "034292b9",
   "metadata": {},
   "source": [
    "* Cuántos registros hay por entidad de residencia `entidad_res`, regresa una sola columna que se llama `num_defunciones`"
   ]
  },
  {
   "cell_type": "code",
   "execution_count": 6,
   "id": "ed83c459",
   "metadata": {},
   "outputs": [
    {
     "data": {
      "text/html": [
       "<div>\n",
       "<style scoped>\n",
       "    .dataframe tbody tr th:only-of-type {\n",
       "        vertical-align: middle;\n",
       "    }\n",
       "\n",
       "    .dataframe tbody tr th {\n",
       "        vertical-align: top;\n",
       "    }\n",
       "\n",
       "    .dataframe thead th {\n",
       "        text-align: right;\n",
       "    }\n",
       "</style>\n",
       "<table border=\"1\" class=\"dataframe\">\n",
       "  <thead>\n",
       "    <tr style=\"text-align: right;\">\n",
       "      <th></th>\n",
       "      <th>entidad_res</th>\n",
       "      <th>num_defunciones</th>\n",
       "    </tr>\n",
       "  </thead>\n",
       "  <tbody>\n",
       "    <tr>\n",
       "      <th>0</th>\n",
       "      <td>GUANAJUATO</td>\n",
       "      <td>53</td>\n",
       "    </tr>\n",
       "    <tr>\n",
       "      <th>1</th>\n",
       "      <td>GUERRERO</td>\n",
       "      <td>162</td>\n",
       "    </tr>\n",
       "    <tr>\n",
       "      <th>2</th>\n",
       "      <td>HIDALGO</td>\n",
       "      <td>472</td>\n",
       "    </tr>\n",
       "    <tr>\n",
       "      <th>3</th>\n",
       "      <td>JALISCO</td>\n",
       "      <td>11</td>\n",
       "    </tr>\n",
       "    <tr>\n",
       "      <th>4</th>\n",
       "      <td>MICHOACÁN DE OCAMPO</td>\n",
       "      <td>71</td>\n",
       "    </tr>\n",
       "    <tr>\n",
       "      <th>5</th>\n",
       "      <td>MORELOS</td>\n",
       "      <td>149</td>\n",
       "    </tr>\n",
       "    <tr>\n",
       "      <th>6</th>\n",
       "      <td>MÉXICO</td>\n",
       "      <td>15217</td>\n",
       "    </tr>\n",
       "    <tr>\n",
       "      <th>7</th>\n",
       "      <td>NAYARIT</td>\n",
       "      <td>1</td>\n",
       "    </tr>\n",
       "    <tr>\n",
       "      <th>8</th>\n",
       "      <td>NUEVO LEÓN</td>\n",
       "      <td>10</td>\n",
       "    </tr>\n",
       "    <tr>\n",
       "      <th>9</th>\n",
       "      <td>OAXACA</td>\n",
       "      <td>75</td>\n",
       "    </tr>\n",
       "    <tr>\n",
       "      <th>10</th>\n",
       "      <td>PUEBLA</td>\n",
       "      <td>258</td>\n",
       "    </tr>\n",
       "    <tr>\n",
       "      <th>11</th>\n",
       "      <td>QUERÉTARO</td>\n",
       "      <td>48</td>\n",
       "    </tr>\n",
       "    <tr>\n",
       "      <th>12</th>\n",
       "      <td>QUINTANA ROO</td>\n",
       "      <td>11</td>\n",
       "    </tr>\n",
       "    <tr>\n",
       "      <th>13</th>\n",
       "      <td>SAN LUIS POTOSÍ</td>\n",
       "      <td>20</td>\n",
       "    </tr>\n",
       "    <tr>\n",
       "      <th>14</th>\n",
       "      <td>SINALOA</td>\n",
       "      <td>6</td>\n",
       "    </tr>\n",
       "    <tr>\n",
       "      <th>15</th>\n",
       "      <td>SONORA</td>\n",
       "      <td>4</td>\n",
       "    </tr>\n",
       "    <tr>\n",
       "      <th>16</th>\n",
       "      <td>TABASCO</td>\n",
       "      <td>4</td>\n",
       "    </tr>\n",
       "    <tr>\n",
       "      <th>17</th>\n",
       "      <td>TAMAULIPAS</td>\n",
       "      <td>18</td>\n",
       "    </tr>\n",
       "    <tr>\n",
       "      <th>18</th>\n",
       "      <td>TLAXCALA</td>\n",
       "      <td>67</td>\n",
       "    </tr>\n",
       "    <tr>\n",
       "      <th>19</th>\n",
       "      <td>VERACRUZ DE IGNACIO DE LA LLAVE</td>\n",
       "      <td>98</td>\n",
       "    </tr>\n",
       "    <tr>\n",
       "      <th>20</th>\n",
       "      <td>YUCATÁN</td>\n",
       "      <td>5</td>\n",
       "    </tr>\n",
       "    <tr>\n",
       "      <th>21</th>\n",
       "      <td>ZACATECAS</td>\n",
       "      <td>5</td>\n",
       "    </tr>\n",
       "  </tbody>\n",
       "</table>\n",
       "</div>"
      ],
      "text/plain": [
       "                        entidad_res  num_defunciones\n",
       "0                        GUANAJUATO               53\n",
       "1                          GUERRERO              162\n",
       "2                           HIDALGO              472\n",
       "3                           JALISCO               11\n",
       "4               MICHOACÁN DE OCAMPO               71\n",
       "5                           MORELOS              149\n",
       "6                            MÉXICO            15217\n",
       "7                           NAYARIT                1\n",
       "8                        NUEVO LEÓN               10\n",
       "9                            OAXACA               75\n",
       "10                           PUEBLA              258\n",
       "11                        QUERÉTARO               48\n",
       "12                     QUINTANA ROO               11\n",
       "13                  SAN LUIS POTOSÍ               20\n",
       "14                          SINALOA                6\n",
       "15                           SONORA                4\n",
       "16                          TABASCO                4\n",
       "17                       TAMAULIPAS               18\n",
       "18                         TLAXCALA               67\n",
       "19  VERACRUZ DE IGNACIO DE LA LLAVE               98\n",
       "20                          YUCATÁN                5\n",
       "21                        ZACATECAS                5"
      ]
     },
     "execution_count": 6,
     "metadata": {},
     "output_type": "execute_result"
    }
   ],
   "source": [
    "#Solo suman 16765, en los demás casos la entidad_res es na\n",
    "defunciones.groupby([\"entidad_res\"]).size().reset_index(name=\"num_defunciones\")"
   ]
  },
  {
   "cell_type": "markdown",
   "id": "56e8d6bb",
   "metadata": {},
   "source": [
    "* Cuál es el top 10 de entidades con mayor número de defunciones?"
   ]
  },
  {
   "cell_type": "code",
   "execution_count": 7,
   "id": "72a44301",
   "metadata": {},
   "outputs": [
    {
     "data": {
      "text/html": [
       "<div>\n",
       "<style scoped>\n",
       "    .dataframe tbody tr th:only-of-type {\n",
       "        vertical-align: middle;\n",
       "    }\n",
       "\n",
       "    .dataframe tbody tr th {\n",
       "        vertical-align: top;\n",
       "    }\n",
       "\n",
       "    .dataframe thead th {\n",
       "        text-align: right;\n",
       "    }\n",
       "</style>\n",
       "<table border=\"1\" class=\"dataframe\">\n",
       "  <thead>\n",
       "    <tr style=\"text-align: right;\">\n",
       "      <th></th>\n",
       "      <th>entidad_res</th>\n",
       "      <th>num_defunciones</th>\n",
       "    </tr>\n",
       "  </thead>\n",
       "  <tbody>\n",
       "    <tr>\n",
       "      <th>6</th>\n",
       "      <td>MÉXICO</td>\n",
       "      <td>15217</td>\n",
       "    </tr>\n",
       "    <tr>\n",
       "      <th>2</th>\n",
       "      <td>HIDALGO</td>\n",
       "      <td>472</td>\n",
       "    </tr>\n",
       "    <tr>\n",
       "      <th>10</th>\n",
       "      <td>PUEBLA</td>\n",
       "      <td>258</td>\n",
       "    </tr>\n",
       "    <tr>\n",
       "      <th>1</th>\n",
       "      <td>GUERRERO</td>\n",
       "      <td>162</td>\n",
       "    </tr>\n",
       "    <tr>\n",
       "      <th>5</th>\n",
       "      <td>MORELOS</td>\n",
       "      <td>149</td>\n",
       "    </tr>\n",
       "    <tr>\n",
       "      <th>19</th>\n",
       "      <td>VERACRUZ DE IGNACIO DE LA LLAVE</td>\n",
       "      <td>98</td>\n",
       "    </tr>\n",
       "    <tr>\n",
       "      <th>9</th>\n",
       "      <td>OAXACA</td>\n",
       "      <td>75</td>\n",
       "    </tr>\n",
       "    <tr>\n",
       "      <th>4</th>\n",
       "      <td>MICHOACÁN DE OCAMPO</td>\n",
       "      <td>71</td>\n",
       "    </tr>\n",
       "    <tr>\n",
       "      <th>18</th>\n",
       "      <td>TLAXCALA</td>\n",
       "      <td>67</td>\n",
       "    </tr>\n",
       "    <tr>\n",
       "      <th>0</th>\n",
       "      <td>GUANAJUATO</td>\n",
       "      <td>53</td>\n",
       "    </tr>\n",
       "  </tbody>\n",
       "</table>\n",
       "</div>"
      ],
      "text/plain": [
       "                        entidad_res  num_defunciones\n",
       "6                            MÉXICO            15217\n",
       "2                           HIDALGO              472\n",
       "10                           PUEBLA              258\n",
       "1                          GUERRERO              162\n",
       "5                           MORELOS              149\n",
       "19  VERACRUZ DE IGNACIO DE LA LLAVE               98\n",
       "9                            OAXACA               75\n",
       "4               MICHOACÁN DE OCAMPO               71\n",
       "18                         TLAXCALA               67\n",
       "0                        GUANAJUATO               53"
      ]
     },
     "execution_count": 7,
     "metadata": {},
     "output_type": "execute_result"
    }
   ],
   "source": [
    "defunciones.groupby([\"entidad_res\"]).size().reset_index(name=\"num_defunciones\")\\\n",
    ".sort_values(by=\"num_defunciones\",ascending=False).head(10)"
   ]
  },
  {
   "cell_type": "markdown",
   "id": "e660e0d9",
   "metadata": {},
   "source": [
    "3. Acomoda los datos para que las columnas: neumonia, embarazo, diabetes, epoc, asma, inmusupr, hipertension, otra_com, cardiovascular, obesidad, renal_cronica, tabaquismo, otro_caso en una sola columna comorbilidad y la columna de su valor sea valor."
   ]
  },
  {
   "cell_type": "code",
   "execution_count": 8,
   "id": "46592e6d",
   "metadata": {},
   "outputs": [],
   "source": [
    "columnas_melt=[\"neumonia\",\"embarazo\",\"diabetes\",\"epoc\",\"asma\",\"inmusupr\",\"hipertension\",\\\n",
    "          \"otra_com\",\"cardiovascular\",\"obesidad\",\"renal_cronica\",\"tabaquismo\",\"otro_caso\"]\n",
    "id_melt=['fecha_actualizacion', 'id_registro', 'origen', 'sector',\n",
    "       'entidad_um', 'sexo', 'entidad_nac', 'entidad_res',\n",
    "       'municipio_res', 'tipo_paciente', 'fecha_ingreso',\n",
    "       'fecha_sintomas', 'fecha_def','edad','nacionalidad','indigena',\\\n",
    "         'toma_muestra_lab', 'resultado_lab',\n",
    "       'toma_muestra_antigeno', 'resultado_antigeno',\n",
    "       'clasificacion_final', 'migrante', 'pais_nacionalidad',\n",
    "       'pais_origen', 'uci']"
   ]
  },
  {
   "cell_type": "code",
   "execution_count": 9,
   "id": "bd54e455",
   "metadata": {},
   "outputs": [],
   "source": [
    "defunciones_long=defunciones.melt(id_vars=id_melt,value_vars=columnas_melt,\\\n",
    "                                  var_name=\"comorbilidad\")"
   ]
  },
  {
   "cell_type": "markdown",
   "id": "a83fe43d",
   "metadata": {},
   "source": [
    "* Cuántos registros de defunciones tienes por `comorbilidad`?"
   ]
  },
  {
   "cell_type": "code",
   "execution_count": 10,
   "id": "6bf6c358",
   "metadata": {},
   "outputs": [
    {
     "data": {
      "text/html": [
       "<div>\n",
       "<style scoped>\n",
       "    .dataframe tbody tr th:only-of-type {\n",
       "        vertical-align: middle;\n",
       "    }\n",
       "\n",
       "    .dataframe tbody tr th {\n",
       "        vertical-align: top;\n",
       "    }\n",
       "\n",
       "    .dataframe thead th {\n",
       "        text-align: right;\n",
       "    }\n",
       "</style>\n",
       "<table border=\"1\" class=\"dataframe\">\n",
       "  <thead>\n",
       "    <tr style=\"text-align: right;\">\n",
       "      <th></th>\n",
       "      <th>comorbilidad</th>\n",
       "      <th>casos_por_comorbilidad</th>\n",
       "    </tr>\n",
       "  </thead>\n",
       "  <tbody>\n",
       "    <tr>\n",
       "      <th>0</th>\n",
       "      <td>asma</td>\n",
       "      <td>816</td>\n",
       "    </tr>\n",
       "    <tr>\n",
       "      <th>1</th>\n",
       "      <td>cardiovascular</td>\n",
       "      <td>3308</td>\n",
       "    </tr>\n",
       "    <tr>\n",
       "      <th>2</th>\n",
       "      <td>diabetes</td>\n",
       "      <td>21562</td>\n",
       "    </tr>\n",
       "    <tr>\n",
       "      <th>3</th>\n",
       "      <td>embarazo</td>\n",
       "      <td>38</td>\n",
       "    </tr>\n",
       "    <tr>\n",
       "      <th>4</th>\n",
       "      <td>epoc</td>\n",
       "      <td>2795</td>\n",
       "    </tr>\n",
       "    <tr>\n",
       "      <th>5</th>\n",
       "      <td>hipertension</td>\n",
       "      <td>25173</td>\n",
       "    </tr>\n",
       "    <tr>\n",
       "      <th>6</th>\n",
       "      <td>inmusupr</td>\n",
       "      <td>1853</td>\n",
       "    </tr>\n",
       "    <tr>\n",
       "      <th>7</th>\n",
       "      <td>neumonia</td>\n",
       "      <td>47188</td>\n",
       "    </tr>\n",
       "    <tr>\n",
       "      <th>8</th>\n",
       "      <td>obesidad</td>\n",
       "      <td>12707</td>\n",
       "    </tr>\n",
       "    <tr>\n",
       "      <th>9</th>\n",
       "      <td>otra_com</td>\n",
       "      <td>3443</td>\n",
       "    </tr>\n",
       "    <tr>\n",
       "      <th>10</th>\n",
       "      <td>otro_caso</td>\n",
       "      <td>13466</td>\n",
       "    </tr>\n",
       "    <tr>\n",
       "      <th>11</th>\n",
       "      <td>renal_cronica</td>\n",
       "      <td>4177</td>\n",
       "    </tr>\n",
       "    <tr>\n",
       "      <th>12</th>\n",
       "      <td>tabaquismo</td>\n",
       "      <td>6162</td>\n",
       "    </tr>\n",
       "  </tbody>\n",
       "</table>\n",
       "</div>"
      ],
      "text/plain": [
       "      comorbilidad  casos_por_comorbilidad\n",
       "0             asma                     816\n",
       "1   cardiovascular                    3308\n",
       "2         diabetes                   21562\n",
       "3         embarazo                      38\n",
       "4             epoc                    2795\n",
       "5     hipertension                   25173\n",
       "6         inmusupr                    1853\n",
       "7         neumonia                   47188\n",
       "8         obesidad                   12707\n",
       "9         otra_com                    3443\n",
       "10       otro_caso                   13466\n",
       "11   renal_cronica                    4177\n",
       "12      tabaquismo                    6162"
      ]
     },
     "execution_count": 10,
     "metadata": {},
     "output_type": "execute_result"
    }
   ],
   "source": [
    "defunciones_long[defunciones_long.value==\"SI\"].groupby([\"comorbilidad\"]).size().reset_index(name=\"casos_por_comorbilidad\")"
   ]
  },
  {
   "cell_type": "markdown",
   "id": "310f84cd",
   "metadata": {},
   "source": [
    "* Cuántos registros de defunciones tienes por `entidad` y `comorbilidad`?"
   ]
  },
  {
   "cell_type": "code",
   "execution_count": 11,
   "id": "ad70923a",
   "metadata": {},
   "outputs": [
    {
     "data": {
      "text/html": [
       "<div>\n",
       "<style scoped>\n",
       "    .dataframe tbody tr th:only-of-type {\n",
       "        vertical-align: middle;\n",
       "    }\n",
       "\n",
       "    .dataframe tbody tr th {\n",
       "        vertical-align: top;\n",
       "    }\n",
       "\n",
       "    .dataframe thead th {\n",
       "        text-align: right;\n",
       "    }\n",
       "</style>\n",
       "<table border=\"1\" class=\"dataframe\">\n",
       "  <thead>\n",
       "    <tr style=\"text-align: right;\">\n",
       "      <th></th>\n",
       "      <th>comorbilidad</th>\n",
       "      <th>entidad_res</th>\n",
       "      <th>casos_por_comorbilidad</th>\n",
       "    </tr>\n",
       "  </thead>\n",
       "  <tbody>\n",
       "    <tr>\n",
       "      <th>0</th>\n",
       "      <td>asma</td>\n",
       "      <td>GUANAJUATO</td>\n",
       "      <td>1</td>\n",
       "    </tr>\n",
       "    <tr>\n",
       "      <th>1</th>\n",
       "      <td>asma</td>\n",
       "      <td>GUERRERO</td>\n",
       "      <td>2</td>\n",
       "    </tr>\n",
       "    <tr>\n",
       "      <th>2</th>\n",
       "      <td>asma</td>\n",
       "      <td>HIDALGO</td>\n",
       "      <td>4</td>\n",
       "    </tr>\n",
       "    <tr>\n",
       "      <th>3</th>\n",
       "      <td>asma</td>\n",
       "      <td>JALISCO</td>\n",
       "      <td>1</td>\n",
       "    </tr>\n",
       "    <tr>\n",
       "      <th>4</th>\n",
       "      <td>asma</td>\n",
       "      <td>MICHOACÁN DE OCAMPO</td>\n",
       "      <td>2</td>\n",
       "    </tr>\n",
       "    <tr>\n",
       "      <th>...</th>\n",
       "      <td>...</td>\n",
       "      <td>...</td>\n",
       "      <td>...</td>\n",
       "    </tr>\n",
       "    <tr>\n",
       "      <th>198</th>\n",
       "      <td>tabaquismo</td>\n",
       "      <td>SINALOA</td>\n",
       "      <td>1</td>\n",
       "    </tr>\n",
       "    <tr>\n",
       "      <th>199</th>\n",
       "      <td>tabaquismo</td>\n",
       "      <td>TAMAULIPAS</td>\n",
       "      <td>3</td>\n",
       "    </tr>\n",
       "    <tr>\n",
       "      <th>200</th>\n",
       "      <td>tabaquismo</td>\n",
       "      <td>TLAXCALA</td>\n",
       "      <td>8</td>\n",
       "    </tr>\n",
       "    <tr>\n",
       "      <th>201</th>\n",
       "      <td>tabaquismo</td>\n",
       "      <td>VERACRUZ DE IGNACIO DE LA LLAVE</td>\n",
       "      <td>6</td>\n",
       "    </tr>\n",
       "    <tr>\n",
       "      <th>202</th>\n",
       "      <td>tabaquismo</td>\n",
       "      <td>YUCATÁN</td>\n",
       "      <td>1</td>\n",
       "    </tr>\n",
       "  </tbody>\n",
       "</table>\n",
       "<p>203 rows × 3 columns</p>\n",
       "</div>"
      ],
      "text/plain": [
       "    comorbilidad                      entidad_res  casos_por_comorbilidad\n",
       "0           asma                       GUANAJUATO                       1\n",
       "1           asma                         GUERRERO                       2\n",
       "2           asma                          HIDALGO                       4\n",
       "3           asma                          JALISCO                       1\n",
       "4           asma              MICHOACÁN DE OCAMPO                       2\n",
       "..           ...                              ...                     ...\n",
       "198   tabaquismo                          SINALOA                       1\n",
       "199   tabaquismo                       TAMAULIPAS                       3\n",
       "200   tabaquismo                         TLAXCALA                       8\n",
       "201   tabaquismo  VERACRUZ DE IGNACIO DE LA LLAVE                       6\n",
       "202   tabaquismo                          YUCATÁN                       1\n",
       "\n",
       "[203 rows x 3 columns]"
      ]
     },
     "execution_count": 11,
     "metadata": {},
     "output_type": "execute_result"
    }
   ],
   "source": [
    "defunciones_long[defunciones_long.value==\"SI\"].groupby([\"comorbilidad\",\"entidad_res\"]).size().reset_index(name=\"casos_por_comorbilidad\")"
   ]
  },
  {
   "cell_type": "markdown",
   "id": "d3b9b20f",
   "metadata": {},
   "source": [
    "4. casos de sobrevivientes"
   ]
  },
  {
   "cell_type": "code",
   "execution_count": 12,
   "id": "efbdfee7",
   "metadata": {},
   "outputs": [],
   "source": [
    "#Solo tomamos a los que no tienen fecha de defunción y dieron positivo a COVID-19\n",
    "sobrevivientes=casos_covid[(casos_covid.fecha_def.isnull() == True) & (casos_covid.resultado_antigeno == 'POSITIVO A SARS-COV-2')]"
   ]
  },
  {
   "cell_type": "code",
   "execution_count": 13,
   "id": "a761a6a1",
   "metadata": {},
   "outputs": [],
   "source": [
    "sobrevivientes_long=sobrevivientes.melt(id_vars=id_melt,value_vars=columnas_melt,\\\n",
    "                                  var_name=\"comorbilidad\")"
   ]
  },
  {
   "cell_type": "code",
   "execution_count": 14,
   "id": "ef0e5526",
   "metadata": {},
   "outputs": [
    {
     "data": {
      "text/plain": [
       "NO APLICA    0.979025\n",
       "NO           0.020481\n",
       "SI           0.000494\n",
       "Name: intubado, dtype: float64"
      ]
     },
     "execution_count": 14,
     "metadata": {},
     "output_type": "execute_result"
    }
   ],
   "source": [
    "sobrevivientes['intubado'].value_counts(normalize=True)"
   ]
  },
  {
   "cell_type": "markdown",
   "id": "51aecc70",
   "metadata": {},
   "source": [
    "* Cuántos registros hay por `entidad` y `comorbilidad`."
   ]
  },
  {
   "cell_type": "code",
   "execution_count": 15,
   "id": "5a5102f6",
   "metadata": {},
   "outputs": [
    {
     "data": {
      "text/html": [
       "<div>\n",
       "<style scoped>\n",
       "    .dataframe tbody tr th:only-of-type {\n",
       "        vertical-align: middle;\n",
       "    }\n",
       "\n",
       "    .dataframe tbody tr th {\n",
       "        vertical-align: top;\n",
       "    }\n",
       "\n",
       "    .dataframe thead th {\n",
       "        text-align: right;\n",
       "    }\n",
       "</style>\n",
       "<table border=\"1\" class=\"dataframe\">\n",
       "  <thead>\n",
       "    <tr style=\"text-align: right;\">\n",
       "      <th></th>\n",
       "      <th>entidad_res</th>\n",
       "      <th>comorbilidad</th>\n",
       "      <th>casos_entidad_comorbilidad</th>\n",
       "    </tr>\n",
       "  </thead>\n",
       "  <tbody>\n",
       "    <tr>\n",
       "      <th>0</th>\n",
       "      <td>DURANGO</td>\n",
       "      <td>hipertension</td>\n",
       "      <td>3</td>\n",
       "    </tr>\n",
       "    <tr>\n",
       "      <th>1</th>\n",
       "      <td>DURANGO</td>\n",
       "      <td>otro_caso</td>\n",
       "      <td>4</td>\n",
       "    </tr>\n",
       "    <tr>\n",
       "      <th>2</th>\n",
       "      <td>GUANAJUATO</td>\n",
       "      <td>asma</td>\n",
       "      <td>1</td>\n",
       "    </tr>\n",
       "    <tr>\n",
       "      <th>3</th>\n",
       "      <td>GUANAJUATO</td>\n",
       "      <td>cardiovascular</td>\n",
       "      <td>4</td>\n",
       "    </tr>\n",
       "    <tr>\n",
       "      <th>4</th>\n",
       "      <td>GUANAJUATO</td>\n",
       "      <td>diabetes</td>\n",
       "      <td>12</td>\n",
       "    </tr>\n",
       "    <tr>\n",
       "      <th>...</th>\n",
       "      <td>...</td>\n",
       "      <td>...</td>\n",
       "      <td>...</td>\n",
       "    </tr>\n",
       "    <tr>\n",
       "      <th>200</th>\n",
       "      <td>ZACATECAS</td>\n",
       "      <td>diabetes</td>\n",
       "      <td>1</td>\n",
       "    </tr>\n",
       "    <tr>\n",
       "      <th>201</th>\n",
       "      <td>ZACATECAS</td>\n",
       "      <td>hipertension</td>\n",
       "      <td>2</td>\n",
       "    </tr>\n",
       "    <tr>\n",
       "      <th>202</th>\n",
       "      <td>ZACATECAS</td>\n",
       "      <td>obesidad</td>\n",
       "      <td>1</td>\n",
       "    </tr>\n",
       "    <tr>\n",
       "      <th>203</th>\n",
       "      <td>ZACATECAS</td>\n",
       "      <td>otro_caso</td>\n",
       "      <td>6</td>\n",
       "    </tr>\n",
       "    <tr>\n",
       "      <th>204</th>\n",
       "      <td>ZACATECAS</td>\n",
       "      <td>tabaquismo</td>\n",
       "      <td>1</td>\n",
       "    </tr>\n",
       "  </tbody>\n",
       "</table>\n",
       "<p>205 rows × 3 columns</p>\n",
       "</div>"
      ],
      "text/plain": [
       "    entidad_res    comorbilidad  casos_entidad_comorbilidad\n",
       "0       DURANGO    hipertension                           3\n",
       "1       DURANGO       otro_caso                           4\n",
       "2    GUANAJUATO            asma                           1\n",
       "3    GUANAJUATO  cardiovascular                           4\n",
       "4    GUANAJUATO        diabetes                          12\n",
       "..          ...             ...                         ...\n",
       "200   ZACATECAS        diabetes                           1\n",
       "201   ZACATECAS    hipertension                           2\n",
       "202   ZACATECAS        obesidad                           1\n",
       "203   ZACATECAS       otro_caso                           6\n",
       "204   ZACATECAS      tabaquismo                           1\n",
       "\n",
       "[205 rows x 3 columns]"
      ]
     },
     "execution_count": 15,
     "metadata": {},
     "output_type": "execute_result"
    }
   ],
   "source": [
    "sobrevivientes_long[sobrevivientes_long.value == 'SI'].groupby(['entidad_res','comorbilidad']).size().reset_index(name='casos_entidad_comorbilidad')"
   ]
  },
  {
   "cell_type": "markdown",
   "id": "31f94c2d",
   "metadata": {},
   "source": [
    "5. Genera una columna `días_hospitalizado` que obtenga para las defunciones los tipos de paciente `HOSPITALIZADO` las siguientes estadísticas interpretando el significado de cada una:"
   ]
  },
  {
   "cell_type": "code",
   "execution_count": 16,
   "id": "8477a453",
   "metadata": {},
   "outputs": [],
   "source": [
    "#Usamos el df de defunciones para crear uno nuevo con la columna dias_hospitalizado\n",
    "defunciones_con_dia=defunciones[defunciones.tipo_paciente == 'HOSPITALIZADO'].assign(dias_hospitalizado=defunciones.fecha_def-defunciones.fecha_ingreso)"
   ]
  },
  {
   "cell_type": "code",
   "execution_count": 17,
   "id": "38e4b036",
   "metadata": {},
   "outputs": [
    {
     "data": {
      "text/plain": [
       "count                      60784\n",
       "mean      9 days 00:30:03.790471\n",
       "std      11 days 14:52:08.022549\n",
       "min           -31 days +00:00:00\n",
       "25%              3 days 00:00:00\n",
       "50%              6 days 00:00:00\n",
       "75%             12 days 00:00:00\n",
       "max            430 days 00:00:00\n",
       "Name: dias_hospitalizado, dtype: object"
      ]
     },
     "execution_count": 17,
     "metadata": {},
     "output_type": "execute_result"
    }
   ],
   "source": [
    "defunciones_con_dia['dias_hospitalizado'].describe()"
   ]
  },
  {
   "cell_type": "markdown",
   "id": "61527bde",
   "metadata": {},
   "source": [
    "* Como el minímo de la muestra es negativo, asumo que en algunos casos la captura de datos fue errónea, usaré solamente los registros con `dias_hospitalizado`> '0 days'"
   ]
  },
  {
   "cell_type": "code",
   "execution_count": 18,
   "id": "f03334ef",
   "metadata": {},
   "outputs": [
    {
     "data": {
      "text/plain": [
       "count                      55762\n",
       "mean      9 days 20:08:55.590545\n",
       "std      11 days 18:55:04.098218\n",
       "min              1 days 00:00:00\n",
       "25%              3 days 00:00:00\n",
       "50%              7 days 00:00:00\n",
       "75%             13 days 00:00:00\n",
       "max            430 days 00:00:00\n",
       "Name: dias_hospitalizado, dtype: object"
      ]
     },
     "execution_count": 18,
     "metadata": {},
     "output_type": "execute_result"
    }
   ],
   "source": [
    "defunciones_con_dia[defunciones_con_dia.dias_hospitalizado > '0 days 00:00:00']['dias_hospitalizado'].describe()"
   ]
  },
  {
   "cell_type": "markdown",
   "id": "657e3850",
   "metadata": {},
   "source": [
    "* count: tenemos 55762 casos en la muestra, eliminando los que son menores a cero días \n",
    "* mean: la media (promedio) de días que los pacientes permanecieron hospitalizados antes de fallecer es de 9 días 20 horas \n",
    "* std: nos dice que la mayor parte de la probabilidad esta acumulada en 9 días +- 11 días (muy grande por valores extremos)\n",
    "* min: el paciente que menos tiempo estuvo hospitalizado fue 1 día \n",
    "* 25%: 3 días es el valor donde la probabilidad acumulada llega a 25%\n",
    "* 50%: 7 días es el valor donde la probabilidad acumulada llega a 50%\n",
    "* 75%: 13 días es el valor donde la probabilidad acumulada llega a 75%\n",
    "* max: 430 días fue el número máximo de días que un paciente estuvo intubado (¿error?)"
   ]
  }
 ],
 "metadata": {
  "kernelspec": {
   "display_name": "Python 3 (ipykernel)",
   "language": "python",
   "name": "python3"
  },
  "language_info": {
   "codemirror_mode": {
    "name": "ipython",
    "version": 3
   },
   "file_extension": ".py",
   "mimetype": "text/x-python",
   "name": "python",
   "nbconvert_exporter": "python",
   "pygments_lexer": "ipython3",
   "version": "3.8.10"
  }
 },
 "nbformat": 4,
 "nbformat_minor": 5
}
